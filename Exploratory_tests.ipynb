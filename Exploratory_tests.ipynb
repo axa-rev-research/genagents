{
 "cells": [
  {
   "cell_type": "code",
   "execution_count": 5,
   "metadata": {},
   "outputs": [],
   "source": [
    "from genagents.genagents import GenerativeAgent\n",
    "\n",
    "# Initialize a new agent\n",
    "agent = GenerativeAgent()\n",
    "\n",
    "# Update the agent's scratchpad with personal information\n",
    "agent.update_scratch({\n",
    "    \"first_name\": \"John\",\n",
    "    \"last_name\": \"Doe\",\n",
    "    \"age\": 30,\n",
    "    \"occupation\": \"Software Engineer\",\n",
    "    \"interests\": [\"reading\", \"hiking\", \"coding\"]\n",
    "})\n"
   ]
  },
  {
   "cell_type": "code",
   "execution_count": 11,
   "metadata": {},
   "outputs": [
    {
     "data": {
      "text/plain": [
       "{'responses': ['Yes'],\n",
       " 'reasonings': ['The participant has indicated an interest in hiking, which is an outdoor activity, suggesting they enjoy spending time outdoors. The presence of other interests like reading and coding indicates a balance, but the enjoyment of hiking could suggest a more frequent appreciation for outdoor activities.']}"
      ]
     },
     "execution_count": 11,
     "metadata": {},
     "output_type": "execute_result"
    }
   ],
   "source": [
    "response"
   ]
  },
  {
   "cell_type": "code",
   "execution_count": 6,
   "metadata": {},
   "outputs": [
    {
     "name": "stdout",
     "output_type": "stream",
     "text": [
      "Running Azure model  gpt-4o\n",
      "RESPONSE  ChatCompletion(id='chatcmpl-AxXt6P3IG8Ddfuh2DwPUg8DjyuevZ', choices=[Choice(finish_reason='stop', index=0, logprobs=None, message=ChatCompletionMessage(content='```json\\n{\\n  \"1\": {\\n    \"Q\": \"Do you enjoy outdoor activities?\",\\n    \"Option Interpretation\": {\\n      \"Yes\": \"A person who chooses this option likely has a strong preference for outdoor activities and often seeks such experiences.\",\\n      \"No\": \"This person probably does not enjoy outdoor activities, possibly due to a preference for indoor activities or discomfort in outdoor settings.\",\\n      \"Sometimes\": \"Someone who selects this option might enjoy outdoor activities occasionally but doesn\\'t have a strong preference for them. They may participate when conditions are favorable or when the activity interests them.\"\\n    },\\n    \"Option Choice\": {\\n      \"Yes\": \"The participant has listed hiking as an interest, which is an outdoor activity. This suggests a preference for being outdoors.\",\\n      \"No\": \"Given the participant\\'s interest in hiking, it is unlikely they would choose this option unless hiking is their only exception.\",\\n      \"Sometimes\": \"While the participant enjoys hiking, other interests such as reading and coding indicate a balance between indoor and outdoor activities. This could imply they enjoy the outdoors in specific instances.\"\\n    },\\n    \"Reasoning\": \"The participant has indicated an interest in hiking, which is an outdoor activity, suggesting they enjoy spending time outdoors. The presence of other interests like reading and coding indicates a balance, but the enjoyment of hiking could suggest a more frequent appreciation for outdoor activities.\",\\n    \"Response\": \"Yes\"\\n  }\\n}\\n```', role='assistant', function_call=None, tool_calls=None, refusal=None), content_filter_results={'hate': {'filtered': False, 'severity': 'safe'}, 'protected_material_code': {'filtered': False, 'detected': False}, 'protected_material_text': {'filtered': False, 'detected': False}, 'self_harm': {'filtered': False, 'severity': 'safe'}, 'sexual': {'filtered': False, 'severity': 'safe'}, 'violence': {'filtered': False, 'severity': 'safe'}})], created=1738754980, model='gpt-4o-2024-08-06', object='chat.completion', system_fingerprint='fp_f3927aa00d', usage=CompletionUsage(completion_tokens=288, prompt_tokens=410, total_tokens=698, completion_tokens_details={'accepted_prediction_tokens': 0, 'audio_tokens': 0, 'reasoning_tokens': 0, 'rejected_prediction_tokens': 0}, prompt_tokens_details={'audio_tokens': 0, 'cached_tokens': 0}), prompt_filter_results=[{'prompt_index': 0, 'content_filter_results': {'hate': {'filtered': False, 'severity': 'safe'}, 'jailbreak': {'filtered': False, 'detected': False}, 'self_harm': {'filtered': False, 'severity': 'safe'}, 'sexual': {'filtered': False, 'severity': 'safe'}, 'violence': {'filtered': False, 'severity': 'safe'}}}])\n",
      "******\n",
      "=== START =======================================================\n",
      "~~~ prompt_input    ----------------------------------------------\n",
      "[\"Self description: {'first_name': 'John', 'last_name': 'Doe', 'age': 30, 'occupation': 'Software Engineer', 'interests': ['reading', 'hiking', 'coding']}\\n==\\nOther observations about the subject:\\n\\n\", \"Q: Do you enjoy outdoor activities?\\nOption: ['Yes', 'No', 'Sometimes']\"] \n",
      "\n",
      "~~~ prompt    ----------------------------------------------------\n",
      "Self description: {'first_name': 'John', 'last_name': 'Doe', 'age': 30, 'occupation': 'Software Engineer', 'interests': ['reading', 'hiking', 'coding']}\n",
      "==\n",
      "Other observations about the subject:\n",
      "\n",
      "\n",
      "\n",
      "=====\n",
      "\n",
      "Task: What you see above is an interview transcript. Based on the interview transcript, I want you to predict the participant's survey responses. The question is a multiple choice where you must guess from one of the options presented. \n",
      "\n",
      "As you answer, I want you to take the following steps: \n",
      "Step 1) Describe in a few sentences the kind of person that would choose each of the response options. (\"Option Interpretation\")\n",
      "Step 2) For each response options, reason about why the Participant might answer with the particular option. (\"Option Choice\")\n",
      "Step 3) Write a few sentences reasoning on which of the option best predicts the participant's response (\"Reasoning\")\n",
      "Step 4) Predict how the participant will actually respond in the survey. Predict based on the interview and your thoughts, but ultimately, DON'T over think it. Use your system 1 (fast, intuitive) thinking. (\"Response\")\n",
      "\n",
      "Here is the question: \n",
      "\n",
      "Q: Do you enjoy outdoor activities?\n",
      "Option: ['Yes', 'No', 'Sometimes']\n",
      "\n",
      "-----\n",
      "\n",
      "Output format -- output your response in json, where you provide the following: \n",
      "\n",
      "{\"1\": {\"Q\": \"<repeat the question you are answering>\",\n",
      "       \"Option Interpretation\": {\n",
      "            \"<option 1>\": \"a few sentences the kind of person that would choose each of the response options\",\n",
      "            \"<option 2>\": \"...\"},\n",
      "       \"Option Choice\": {\n",
      "            \"<option 1>\": \"reasoning about why the participant might choose each of the options\",\n",
      "            \"<option 2>\": \"...\"},\n",
      "       \"Reasoning\": \"<reasoning on which of the option best predicts the participant's response>\",\n",
      "       \"Response\": \"<your prediction on how the participant will answer the question>\"}} \n",
      "\n",
      "~~~ output    ----------------------------------------------------\n",
      "{'responses': ['Yes'], 'reasonings': ['The participant has indicated an interest in hiking, which is an outdoor activity, suggesting they enjoy spending time outdoors. The presence of other interests like reading and coding indicates a balance, but the enjoyment of hiking could suggest a more frequent appreciation for outdoor activities.']} \n",
      "\n",
      "=== END ==========================================================\n",
      "\n",
      "\n",
      "\n",
      "\n",
      "{'responses': ['Yes'], 'reasonings': ['The participant has indicated an interest in hiking, which is an outdoor activity, suggesting they enjoy spending time outdoors. The presence of other interests like reading and coding indicates a balance, but the enjoyment of hiking could suggest a more frequent appreciation for outdoor activities.']}\n"
     ]
    }
   ],
   "source": [
    "\n",
    "# Interact with the agent\n",
    "questions = {\n",
    "    \"Do you enjoy outdoor activities?\": [\"Yes\", \"No\", \"Sometimes\"]\n",
    "}\n",
    "\n",
    "response = agent.categorical_resp(questions)\n",
    "print (response)\n",
    "#print(response[\"responses\"])"
   ]
  },
  {
   "cell_type": "code",
   "execution_count": 10,
   "metadata": {},
   "outputs": [
    {
     "data": {
      "text/plain": [
       "['Yes']"
      ]
     },
     "execution_count": 10,
     "metadata": {},
     "output_type": "execute_result"
    }
   ],
   "source": [
    "response[\"responses\"]"
   ]
  },
  {
   "cell_type": "code",
   "execution_count": 3,
   "metadata": {},
   "outputs": [],
   "source": [
    "questions = {\n",
    "       \"How much longer do you expect to live relative to others in your age?\" \n",
    "        : [\"I expect to live longer.\", \"I expect to live about the same time.\", \"I expect to die sooner.\"]\n",
    "        }"
   ]
  },
  {
   "cell_type": "code",
   "execution_count": null,
   "metadata": {},
   "outputs": [],
   "source": [
    "questions"
   ]
  },
  {
   "cell_type": "code",
   "execution_count": null,
   "metadata": {},
   "outputs": [],
   "source": [
    "response = agent.categorical_resp(questions)\n",
    "print (response)"
   ]
  },
  {
   "cell_type": "code",
   "execution_count": null,
   "metadata": {},
   "outputs": [],
   "source": [
    "response[1]"
   ]
  },
  {
   "cell_type": "code",
   "execution_count": null,
   "metadata": {},
   "outputs": [],
   "source": [
    "# Testing one agents with only demographics\n",
    "from genagents.genagents import GenerativeAgent\n",
    "agent = GenerativeAgent(agent_folder=\"./agent_bank/populations/gss_agents/0a1aa8c2-382a-4cd3-9d02-3a34e0592bbd\")\n",
    "\n",
    "# Interact with the agent\n",
    "questions = {\n",
    "    \"Do you enjoy outdoor activities?\": [\"Yes\", \"No\", \"Sometimes\"]\n",
    "}\n",
    "response = agent.categorical_resp(questions)\n",
    "print(response[\"responses\"])"
   ]
  },
  {
   "cell_type": "code",
   "execution_count": null,
   "metadata": {},
   "outputs": [],
   "source": [
    "# Testing Joon's agent with demographics and interview\n",
    "from genagents.genagents import GenerativeAgent\n",
    "agent = GenerativeAgent(agent_folder=\"./agent_bank/populations/single_agent/01fd7d2a-0357-4c1b-9f3e-8eade2d537ae\")\n",
    "\n",
    "# Interact with the agent\n",
    "questions = {\n",
    "    \"Do you enjoy outdoor activities?\": [\"Yes\", \"No\", \"Sometimes\"]\n",
    "}\n",
    "response = agent.categorical_resp(questions)\n",
    "print(response[\"responses\"])"
   ]
  }
 ],
 "metadata": {
  "kernelspec": {
   "display_name": "genagents2",
   "language": "python",
   "name": "python3"
  },
  "language_info": {
   "codemirror_mode": {
    "name": "ipython",
    "version": 3
   },
   "file_extension": ".py",
   "mimetype": "text/x-python",
   "name": "python",
   "nbconvert_exporter": "python",
   "pygments_lexer": "ipython3",
   "version": "3.10.16"
  }
 },
 "nbformat": 4,
 "nbformat_minor": 2
}
