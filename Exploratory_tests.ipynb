{
 "cells": [
  {
   "cell_type": "code",
   "execution_count": 1,
   "metadata": {},
   "outputs": [
    {
     "name": "stdout",
     "output_type": "stream",
     "text": [
      "Running Azure model  gpt-4o-mini\n",
      "=== START =======================================================\n",
      "~~~ prompt_input    ----------------------------------------------\n",
      "[\"Self description: {'first_name': 'John', 'last_name': 'Doe', 'age': 30, 'occupation': 'Software Engineer', 'interests': ['reading', 'hiking', 'coding']}\\n==\\nOther observations about the subject:\\n\\n\", \"Q: Do you enjoy outdoor activities?\\nOption: ['Yes', 'No', 'Sometimes']\"] \n",
      "\n",
      "~~~ prompt    ----------------------------------------------------\n",
      "Self description: {'first_name': 'John', 'last_name': 'Doe', 'age': 30, 'occupation': 'Software Engineer', 'interests': ['reading', 'hiking', 'coding']}\n",
      "==\n",
      "Other observations about the subject:\n",
      "\n",
      "\n",
      "\n",
      "=====\n",
      "\n",
      "Task: What you see above is an interview transcript. Based on the interview transcript, I want you to predict the participant's survey responses. The question is a multiple choice where you must guess from one of the options presented. \n",
      "\n",
      "As you answer, I want you to take the following steps: \n",
      "Step 1) Describe in a few sentences the kind of person that would choose each of the response options. (\"Option Interpretation\")\n",
      "Step 2) For each response options, reason about why the Participant might answer with the particular option. (\"Option Choice\")\n",
      "Step 3) Write a few sentences reasoning on which of the option best predicts the participant's response (\"Reasoning\")\n",
      "Step 4) Predict how the participant will actually respond in the survey. Predict based on the interview and your thoughts, but ultimately, DON'T over think it. Use your system 1 (fast, intuitive) thinking. (\"Response\")\n",
      "\n",
      "Here is the question: \n",
      "\n",
      "Q: Do you enjoy outdoor activities?\n",
      "Option: ['Yes', 'No', 'Sometimes']\n",
      "\n",
      "-----\n",
      "\n",
      "Output format -- output your response in json, where you provide the following: \n",
      "\n",
      "{\"1\": {\"Q\": \"<repeat the question you are answering>\",\n",
      "       \"Option Interpretation\": {\n",
      "            \"<option 1>\": \"a few sentences the kind of person that would choose each of the response options\",\n",
      "            \"<option 2>\": \"...\"},\n",
      "       \"Option Choice\": {\n",
      "            \"<option 1>\": \"reasoning about why the participant might choose each of the options\",\n",
      "            \"<option 2>\": \"...\"},\n",
      "       \"Reasoning\": \"<reasoning on which of the option best predicts the participant's response>\",\n",
      "       \"Response\": \"<your prediction on how the participant will answer the question>\"}} \n",
      "\n",
      "~~~ output    ----------------------------------------------------\n",
      "{'responses': [], 'reasonings': []} \n",
      "\n",
      "=== END ==========================================================\n",
      "\n",
      "\n",
      "\n",
      "\n",
      "[]\n"
     ]
    }
   ],
   "source": [
    "from genagents.genagents import GenerativeAgent\n",
    "\n",
    "# Initialize a new agent\n",
    "agent = GenerativeAgent()\n",
    "\n",
    "# Update the agent's scratchpad with personal information\n",
    "agent.update_scratch({\n",
    "    \"first_name\": \"John\",\n",
    "    \"last_name\": \"Doe\",\n",
    "    \"age\": 30,\n",
    "    \"occupation\": \"Software Engineer\",\n",
    "    \"interests\": [\"reading\", \"hiking\", \"coding\"]\n",
    "})\n",
    "\n",
    "# Interact with the agent\n",
    "questions = {\n",
    "    \"Do you enjoy outdoor activities?\": [\"Yes\", \"No\", \"Sometimes\"]\n",
    "}\n",
    "response = agent.categorical_resp(questions)\n",
    "print(response[\"responses\"])"
   ]
  },
  {
   "cell_type": "code",
   "execution_count": null,
   "metadata": {},
   "outputs": [],
   "source": [
    "# Testing one agents with only demographics\n",
    "from genagents.genagents import GenerativeAgent\n",
    "agent = GenerativeAgent(agent_folder=\"./agent_bank/populations/gss_agents/0a1aa8c2-382a-4cd3-9d02-3a34e0592bbd\")\n",
    "\n",
    "# Interact with the agent\n",
    "questions = {\n",
    "    \"Do you enjoy outdoor activities?\": [\"Yes\", \"No\", \"Sometimes\"]\n",
    "}\n",
    "response = agent.categorical_resp(questions)\n",
    "print(response[\"responses\"])"
   ]
  },
  {
   "cell_type": "code",
   "execution_count": null,
   "metadata": {},
   "outputs": [],
   "source": [
    "# Testing Joon's agent with demographics and interview\n",
    "from genagents.genagents import GenerativeAgent\n",
    "agent = GenerativeAgent(agent_folder=\"./agent_bank/populations/single_agent/01fd7d2a-0357-4c1b-9f3e-8eade2d537ae\")\n",
    "\n",
    "# Interact with the agent\n",
    "questions = {\n",
    "    \"Do you enjoy outdoor activities?\": [\"Yes\", \"No\", \"Sometimes\"]\n",
    "}\n",
    "response = agent.categorical_resp(questions)\n",
    "print(response[\"responses\"])"
   ]
  },
  {
   "cell_type": "code",
   "execution_count": null,
   "metadata": {},
   "outputs": [],
   "source": [
    "!pip install pandas"
   ]
  },
  {
   "cell_type": "code",
   "execution_count": null,
   "metadata": {},
   "outputs": [],
   "source": []
  }
 ],
 "metadata": {
  "kernelspec": {
   "display_name": "genagents",
   "language": "python",
   "name": "python3"
  },
  "language_info": {
   "codemirror_mode": {
    "name": "ipython",
    "version": 3
   },
   "file_extension": ".py",
   "mimetype": "text/x-python",
   "name": "python",
   "nbconvert_exporter": "python",
   "pygments_lexer": "ipython3",
   "version": "3.10.16"
  }
 },
 "nbformat": 4,
 "nbformat_minor": 2
}
