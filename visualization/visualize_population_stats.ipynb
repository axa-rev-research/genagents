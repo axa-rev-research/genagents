{
 "cells": [
  {
   "cell_type": "code",
   "execution_count": 3,
   "metadata": {},
   "outputs": [
    {
     "data": {
      "image/png": "[encoded data removed]",
      "text/plain": [
       "<Figure size 640x480 with 1 Axes>"
      ]
     },
     "metadata": {},
     "output_type": "display_data"
    }
   ],
   "source": [
    "import os\n",
    "import json\n",
    "\n",
    "import matplotlib.pyplot as plt\n",
    "\n",
    "def scan_and_plot_age_distribution(main_folder_path):\n",
    "    ages = []\n",
    "\n",
    "    # Walk through all subfolders\n",
    "    for root, dirs, files in os.walk(main_folder_path):\n",
    "        for file in files:\n",
    "            if file == 'scratch.json':\n",
    "                file_path = os.path.join(root, file)\n",
    "                with open(file_path, 'r', encoding='utf-8') as f:\n",
    "                    data = json.load(f)\n",
    "                    if 'age' in data:\n",
    "                        ages.append(data['age'])\n",
    "\n",
    "    # Plot the distribution of ages\n",
    "    plt.hist(ages, bins=range(min(ages), max(ages) + 1), edgecolor='black')\n",
    "    plt.title('Age Distribution')\n",
    "    plt.xlabel('Age')\n",
    "    plt.ylabel('Frequency')\n",
    "    plt.show()\n",
    "\n",
    "# Call the function with the main folder path\n",
    "scan_and_plot_age_distribution(\"/Users/rgarzon/Documents/Stanford/genagents/populations/population_4373_age_50_51_52_53_54_55_56_57_58_59_60_61_62_63_64_65_66_67_68_69_70_71_72_73_74_75\")"
   ]
  },
  {
   "cell_type": "code",
   "execution_count": 8,
   "metadata": {},
   "outputs": [
    {
     "name": "stdout",
     "output_type": "stream",
     "text": [
      "Mean Age: 62.199413489736074\n",
      "Percentage of Male: 47.14076246334311%\n",
      "Percentage of Married: 46.55425219941349%\n",
      "Percentage of Retired: 36.58357771260997%\n",
      "Highest Degree Received:\n",
      "  High school: 45.60117302052786%\n",
      "  Graduate: 14.222873900293257%\n",
      "  Bachelor's: 20.89442815249267%\n",
      "  Associate/junior college: 9.897360703812316%\n",
      "  Less than high school: 9.3841642228739%\n"
     ]
    }
   ],
   "source": [
    "def scan_and_compute_statistics(main_folder_path):\n",
    "    ages = []\n",
    "    male_count = 0\n",
    "    married_count = 0\n",
    "    retired_count = 0\n",
    "    highest_degrees = {}\n",
    "    net_worths = []\n",
    "\n",
    "    # Walk through all subfolders\n",
    "    for root, dirs, files in os.walk(main_folder_path):\n",
    "        for file in files:\n",
    "            if file == 'scratch.json':\n",
    "                file_path = os.path.join(root, file)\n",
    "                with open(file_path, 'r', encoding='utf-8') as f:\n",
    "                    data = json.load(f)\n",
    "                    if 'age' in data:\n",
    "                        ages.append(data['age'])\n",
    "                    if 'sex' in data and data['sex'] == 'Male':\n",
    "                        male_count += 1\n",
    "                    if 'marital_status' in data and data['marital_status'] == 'Married':\n",
    "                        married_count += 1\n",
    "                    if 'work_status' in data and data['work_status'] == 'Retired':\n",
    "                        retired_count += 1\n",
    "                    if 'highest_degree_received' in data:\n",
    "                        degree = data['highest_degree_received']\n",
    "                        if degree in highest_degrees:\n",
    "                            highest_degrees[degree] += 1\n",
    "                        else:\n",
    "                            highest_degrees[degree] = 1\n",
    "                    #if 'total_wealth' in data:\n",
    "                    #    net_worth_str = data['total_wealth'].replace('$', '').replace(',', '').replace('to', '-')\n",
    "                    #    net_worth_range = [int(x) for x in net_worth_str.split('-')]\n",
    "                    #    net_worths.append(sum(net_worth_range) / len(net_worth_range))\n",
    "\n",
    "    # Compute statistics\n",
    "    mean_age = sum(ages) / len(ages) if ages else 0\n",
    "    total_count = len(ages)\n",
    "    male_percentage = (male_count / total_count) * 100 if total_count else 0\n",
    "    married_percentage = (married_count / total_count) * 100 if total_count else 0\n",
    "    retired_percentage = (retired_count / total_count) * 100 if total_count else 0\n",
    "    #mean_net_worth = sum(net_worths) / len(net_worths) if net_worths else 0\n",
    "    median_net_worth = sorted(net_worths)[len(net_worths) // 2] if net_worths else 0\n",
    "\n",
    "    # Print statistics\n",
    "    print(f\"Mean Age: {mean_age}\")\n",
    "    print(f\"Percentage of Male: {male_percentage}%\")\n",
    "    print(f\"Percentage of Married: {married_percentage}%\")\n",
    "    print(f\"Percentage of Retired: {retired_percentage}%\")\n",
    "    #print(f\"Mean Net Worth: ${mean_net_worth}\")\n",
    "    #print(f\"Median Net Worth: ${median_net_worth}\")\n",
    "    print(\"Highest Degree Received:\")\n",
    "    for degree, count in highest_degrees.items():\n",
    "        percentage = (count / total_count) * 100 if total_count else 0\n",
    "        print(f\"  {degree}: {percentage}%\")\n",
    "\n",
    "# Call the function with the main folder path\n",
    "scan_and_compute_statistics(\"/Users/rgarzon/Documents/Stanford/genagents/populations/population_4373_age_50_51_52_53_54_55_56_57_58_59_60_61_62_63_64_65_66_67_68_69_70_71_72_73_74_75\")"
   ]
  },
  {
   "cell_type": "code",
   "execution_count": 4,
   "metadata": {},
   "outputs": [
    {
     "name": "stdout",
     "output_type": "stream",
     "text": [
      "Mean Age: 62.199413489736074\n",
      "Percentage of Male: 47.14076246334311%\n",
      "Percentage of Married: 46.55425219941349%\n",
      "Percentage of Retired: 36.58357771260997%\n",
      "Highest Degree Received:\n",
      "  High school: 622\n",
      "  Graduate: 194\n",
      "  Bachelor's: 285\n",
      "  Associate/junior college: 135\n",
      "  Less than high school: 128\n"
     ]
    }
   ],
   "source": [
    "def scan_and_compute_statistics(main_folder_path):\n",
    "    ages = []\n",
    "    male_count = 0\n",
    "    married_count = 0\n",
    "    retired_count = 0\n",
    "    highest_degrees = {}\n",
    "\n",
    "    # Walk through all subfolders\n",
    "    for root, dirs, files in os.walk(main_folder_path):\n",
    "        for file in files:\n",
    "            if file == 'scratch.json':\n",
    "                file_path = os.path.join(root, file)\n",
    "                with open(file_path, 'r', encoding='utf-8') as f:\n",
    "                    data = json.load(f)\n",
    "                    if 'age' in data:\n",
    "                        ages.append(data['age'])\n",
    "                    if 'sex' in data and data['sex'] == 'Male':\n",
    "                        male_count += 1\n",
    "                    if 'marital_status' in data and data['marital_status'] == 'Married':\n",
    "                        married_count += 1\n",
    "                    if 'work_status' in data and data['work_status'] == 'Retired':\n",
    "                        retired_count += 1\n",
    "                    if 'highest_degree_received' in data:\n",
    "                        degree = data['highest_degree_received']\n",
    "                        if degree in highest_degrees:\n",
    "                            highest_degrees[degree] += 1\n",
    "                        else:\n",
    "                            highest_degrees[degree] = 1\n",
    "\n",
    "    # Compute statistics\n",
    "    mean_age = sum(ages) / len(ages) if ages else 0\n",
    "    total_count = len(ages)\n",
    "    male_percentage = (male_count / total_count) * 100 if total_count else 0\n",
    "    married_percentage = (married_count / total_count) * 100 if total_count else 0\n",
    "    retired_count = (retired_count / total_count) * 100 if total_count else 0\n",
    "\n",
    "    # Print statistics\n",
    "    print(f\"Mean Age: {mean_age}\")\n",
    "    print(f\"Percentage of Male: {male_percentage}%\")\n",
    "    print(f\"Percentage of Married: {married_percentage}%\")\n",
    "    print(f\"Percentage of Retired: {retired_count}%\")\n",
    "    print(\"Highest Degree Received:\")\n",
    "    for degree, count in highest_degrees.items():\n",
    "        print(f\"  {degree}: {count}\")\n",
    "\n",
    "# Call the function with the main folder path\n",
    "scan_and_compute_statistics(\"/Users/rgarzon/Documents/Stanford/genagents/populations/population_4373_age_50_51_52_53_54_55_56_57_58_59_60_61_62_63_64_65_66_67_68_69_70_71_72_73_74_75\")"
   ]
  },
  {
   "cell_type": "code",
   "execution_count": null,
   "metadata": {},
   "outputs": [],
   "source": []
  }
 ],
 "metadata": {
  "kernelspec": {
   "display_name": "genagents2",
   "language": "python",
   "name": "python3"
  },
  "language_info": {
   "codemirror_mode": {
    "name": "ipython",
    "version": 3
   },
   "file_extension": ".py",
   "mimetype": "text/x-python",
   "name": "python",
   "nbconvert_exporter": "python",
   "pygments_lexer": "ipython3",
   "version": "3.10.16"
  }
 },
 "nbformat": 4,
 "nbformat_minor": 2
}
