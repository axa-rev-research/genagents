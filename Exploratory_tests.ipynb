{
 "cells": [
  {
   "cell_type": "code",
   "execution_count": null,
   "metadata": {},
   "outputs": [],
   "source": [
    "from genagents.genagents import GenerativeAgent\n",
    "\n",
    "# Initialize a new agent\n",
    "agent = GenerativeAgent()\n",
    "\n",
    "# Update the agent's scratchpad with personal information\n",
    "agent.update_scratch({\n",
    "    \"first_name\": \"John\",\n",
    "    \"last_name\": \"Doe\",\n",
    "    \"age\": 30,\n",
    "    \"occupation\": \"Software Engineer\",\n",
    "    \"interests\": [\"reading\", \"hiking\", \"coding\"]\n",
    "})\n",
    "\n",
    "# Interact with the agent\n",
    "questions = {\n",
    "    \"Do you enjoy outdoor activities?\": [\"Yes\", \"No\", \"Sometimes\"]\n",
    "}\n",
    "response = agent.categorical_resp(questions)\n",
    "print(response[\"responses\"])"
   ]
  },
  {
   "cell_type": "code",
   "execution_count": null,
   "metadata": {},
   "outputs": [],
   "source": [
    "# Testing one agents with only demographics\n",
    "from genagents.genagents import GenerativeAgent\n",
    "agent = GenerativeAgent(agent_folder=\"./agent_bank/populations/gss_agents/0a1aa8c2-382a-4cd3-9d02-3a34e0592bbd\")\n",
    "\n",
    "# Interact with the agent\n",
    "questions = {\n",
    "    \"Do you enjoy outdoor activities?\": [\"Yes\", \"No\", \"Sometimes\"]\n",
    "}\n",
    "response = agent.categorical_resp(questions)\n",
    "print(response[\"responses\"])"
   ]
  },
  {
   "cell_type": "code",
   "execution_count": null,
   "metadata": {},
   "outputs": [],
   "source": [
    "# Testing Joon's agent with demographics and interview\n",
    "from genagents.genagents import GenerativeAgent\n",
    "agent = GenerativeAgent(agent_folder=\"./agent_bank/populations/single_agent/01fd7d2a-0357-4c1b-9f3e-8eade2d537ae\")\n",
    "\n",
    "# Interact with the agent\n",
    "questions = {\n",
    "    \"Do you enjoy outdoor activities?\": [\"Yes\", \"No\", \"Sometimes\"]\n",
    "}\n",
    "response = agent.categorical_resp(questions)\n",
    "print(response[\"responses\"])"
   ]
  },
  {
   "cell_type": "code",
   "execution_count": null,
   "metadata": {},
   "outputs": [],
   "source": []
  },
  {
   "cell_type": "code",
   "execution_count": null,
   "metadata": {},
   "outputs": [],
   "source": []
  }
 ],
 "metadata": {
  "kernelspec": {
   "display_name": "genagents",
   "language": "python",
   "name": "python3"
  },
  "language_info": {
   "codemirror_mode": {
    "name": "ipython",
    "version": 3
   },
   "file_extension": ".py",
   "mimetype": "text/x-python",
   "name": "python",
   "nbconvert_exporter": "python",
   "pygments_lexer": "ipython3",
   "version": "3.10.16"
  }
 },
 "nbformat": 4,
 "nbformat_minor": 2
}
