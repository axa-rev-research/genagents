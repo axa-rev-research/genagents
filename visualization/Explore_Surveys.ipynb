{
 "cells": [
  {
   "cell_type": "code",
   "execution_count": 1,
   "metadata": {},
   "outputs": [],
   "source": [
    "import os\n",
    "import pandas as pd\n",
    "from genagents.genagents import GenerativeAgent\n",
    "from run_survey import ask_agents\n"
   ]
  },
  {
   "cell_type": "code",
   "execution_count": 2,
   "metadata": {},
   "outputs": [],
   "source": [
    " # Example usage\n",
    "path = '/Users/rubengarzon/source/stanford/genagents/agent_bank/a_few_agents'\n",
    "# Interact with the agent\n",
    "questions = {\n",
    "\"Would you accept a sudden increase in your pension contribution of 4% of your salary from your employer?\": [\"Yes\", \"No, I would opt out.\", \"I don't know\"]\n",
    "    }"
   ]
  },
  {
   "cell_type": "code",
   "execution_count": null,
   "metadata": {},
   "outputs": [],
   "source": [
    "df_answers = ask_agents (path,questions)"
   ]
  },
  {
   "cell_type": "code",
   "execution_count": null,
   "metadata": {},
   "outputs": [],
   "source": [
    "df_answers = pd.read_csv(path +'/answers_v2.csv')\n",
    "print(df_answers)"
   ]
  },
  {
   "cell_type": "code",
   "execution_count": null,
   "metadata": {},
   "outputs": [],
   "source": [
    "df_answers.columns"
   ]
  },
  {
   "cell_type": "code",
   "execution_count": null,
   "metadata": {},
   "outputs": [],
   "source": [
    "import seaborn as sns\n",
    "\n",
    "import matplotlib.pyplot as plt\n",
    "\n",
    "# List of numerical variables to analyze\n",
    "numerical_vars = df_answers.select_dtypes(include=['int64', 'float64']).columns\n",
    "\n",
    "# Iterate over each numerical variable\n",
    "for var in numerical_vars:\n",
    "    plt.figure(figsize=(12, 6))\n",
    "    sns.histplot(data=df_answers, x=var, hue='choice', multiple='stack', kde=True)\n",
    "    plt.title(f'Distribution of {var} by choice')\n",
    "    plt.xlabel(var)\n",
    "    plt.ylabel('Count')\n",
    "    plt.legend(title='Choice')\n",
    "    plt.show()"
   ]
  },
  {
   "cell_type": "code",
   "execution_count": null,
   "metadata": {},
   "outputs": [],
   "source": [
    "distinct_choices = df_answers['choice'].unique()\n",
    "print(distinct_choices)"
   ]
  },
  {
   "cell_type": "code",
   "execution_count": null,
   "metadata": {},
   "outputs": [],
   "source": [
    "import seaborn as sns\n",
    "\n",
    "import matplotlib.pyplot as plt\n",
    "\n",
    "# List of numerical variables to analyze\n",
    "numerical_vars = df_answers.select_dtypes(include=['int64', 'float64']).columns\n",
    "\n",
    "# Iterate over each numerical variable\n",
    "for var in numerical_vars:\n",
    "    plt.figure(figsize=(12, 6))\n",
    "    xlabel = var\n",
    "    sns.histplot(data=df_answers, x=var, hue='choice', multiple='stack', kde=True)\n",
    "    plt.title(f'Distribution of {xlabel} by choice')\n",
    "    plt.xlabel(xlabel)\n",
    "    plt.ylabel('Count')\n",
    "    plt.legend(title='Choice')\n",
    "    plt.show()"
   ]
  },
  {
   "cell_type": "code",
   "execution_count": null,
   "metadata": {},
   "outputs": [],
   "source": [
    "plt.figure(figsize=(12, 6))\n",
    "sns.boxplot(data=df_answers, x='choice', y='age')\n",
    "plt.title('Distribution of Ages by Choice')\n",
    "plt.xlabel('Choice')\n",
    "plt.ylabel('Age')\n",
    "plt.show()"
   ]
  },
  {
   "cell_type": "code",
   "execution_count": null,
   "metadata": {},
   "outputs": [],
   "source": [
    "import seaborn as sns\n",
    "\n",
    "import matplotlib.pyplot as plt\n",
    "# List of numerical variables to analyze\n",
    "numerical_vars = df_answers.select_dtypes(include=['int64', 'float64']).columns\n",
    "\n",
    "# Iterate over each numerical variable\n",
    "for var in numerical_vars:\n",
    "    plt.figure(figsize=(12, 6))\n",
    "    sns.histplot(data=df_answers, x=var, hue='choice', multiple='stack', kde=True)\n",
    "    plt.title(f'Distribution of {var} by choice')\n",
    "    plt.xlabel(var)\n",
    "    plt.ylabel('Count')\n",
    "    plt.legend(title='Choice')\n",
    "    plt.show()"
   ]
  },
  {
   "cell_type": "code",
   "execution_count": null,
   "metadata": {},
   "outputs": [],
   "source": [
    "import seaborn as sns\n",
    "\n",
    "import matplotlib.pyplot as plt\n",
    "\n",
    "# List of categorical variables to analyze\n",
    "categorical_vars = df_answers.columns.difference(['agent_id', 'answer', 'choice'])\n",
    "\n",
    "# Iterate over each categorical variable\n",
    "for var in categorical_vars:\n",
    "    if df_answers[var].dtype == 'object':\n",
    "        plt.figure(figsize=(12, 6))\n",
    "        sns.countplot(data=df_answers, x=var, hue='choice')\n",
    "        plt.title(f'Distribution of choices by {var}')\n",
    "        plt.xticks(rotation=90)\n",
    "        plt.legend(title='Choice')\n",
    "        plt.show()"
   ]
  },
  {
   "cell_type": "code",
   "execution_count": null,
   "metadata": {},
   "outputs": [],
   "source": []
  },
  {
   "cell_type": "code",
   "execution_count": null,
   "metadata": {},
   "outputs": [],
   "source": [
    "import seaborn as sns\n",
    "\n",
    "import matplotlib.pyplot as plt\n",
    "\n",
    "# Get the list of columns to plot, excluding 'agent_id' and 'answer'\n",
    "columns_to_plot = df_answers.columns.difference(['agent_id', 'answer'])\n",
    "\n",
    "# Iterate over each unique value in 'choice'\n",
    "for choice_value in df_answers['choice'].unique():\n",
    "    # Filter the dataframe for the current choice value\n",
    "    df_filtered = df_answers[df_answers['choice'] == choice_value]\n",
    "    \n",
    "    # Create a pairplot to visualize the relationships between numerical variables\n",
    "    sns.pairplot(df_filtered, vars=columns_to_plot, kind='scatter')\n",
    "    plt.suptitle(f'Pairplot for choice: {choice_value}', y=1.02)\n",
    "    plt.show()\n",
    "    \n",
    "    # Create a countplot for each categorical variable\n",
    "    for column in columns_to_plot:\n",
    "        if df_answers[column].dtype == 'object':\n",
    "            plt.figure(figsize=(10, 6))\n",
    "            sns.countplot(data=df_filtered, x=column)\n",
    "            plt.title(f'Countplot for {column} with choice: {choice_value}')\n",
    "            plt.xticks(rotation=90)\n",
    "            plt.show()"
   ]
  }
 ],
 "metadata": {
  "kernelspec": {
   "display_name": "genagents",
   "language": "python",
   "name": "python3"
  },
  "language_info": {
   "codemirror_mode": {
    "name": "ipython",
    "version": 3
   },
   "file_extension": ".py",
   "mimetype": "text/x-python",
   "name": "python",
   "nbconvert_exporter": "python",
   "pygments_lexer": "ipython3",
   "version": "3.10.16"
  }
 },
 "nbformat": 4,
 "nbformat_minor": 2
}
